{
 "cells": [
  {
   "cell_type": "code",
   "execution_count": 1,
   "metadata": {},
   "outputs": [],
   "source": [
    "import knoty\n",
    "import k3d\n",
    "import sympy as sp\n",
    "import numpy as np"
   ]
  },
  {
   "cell_type": "code",
   "execution_count": 2,
   "metadata": {},
   "outputs": [
    {
     "data": {
      "application/vnd.jupyter.widget-view+json": {
       "model_id": "fbb2564c1eda478e9bbe61a1bcb52eda",
       "version_major": 2,
       "version_minor": 0
      },
      "text/plain": [
       "Output()"
      ]
     },
     "metadata": {},
     "output_type": "display_data"
    }
   ],
   "source": [
    "plot = k3d.plot()\n",
    "plot = knoty.plot_contact_structure(plot, alpha = 1)\n",
    "\n",
    "plot.display()"
   ]
  },
  {
   "cell_type": "code",
   "execution_count": 3,
   "metadata": {},
   "outputs": [],
   "source": [
    "# Example usage with your basic_knot function\n",
    "def knot1(t):\n",
    "    return 3 * sp.sin(2 * np.pi *t) * sp.cos(2 * np.pi *t), sp.cos(2 * np.pi *t), sp.sin(2 * np.pi *t)**3\n",
    "\n",
    "def knot2(t):\n",
    "    return sp.cos(2 * np.pi *t), sp.sin(2 * np.pi *2*t), 2/3 * sp.sin(2 * np.pi *t)*sp.cos(2 * np.pi *2*t) -4/3 * sp.sin(2 * np.pi *2*t)*sp.cos(2 * np.pi *t)\n"
   ]
  },
  {
   "cell_type": "markdown",
   "metadata": {},
   "source": [
    "The following knot equations were kindly provided by Lenny Ng"
   ]
  },
  {
   "cell_type": "code",
   "execution_count": 4,
   "metadata": {},
   "outputs": [],
   "source": [
    "\n",
    "def LNGLegTrefoil(t):\n",
    "    # Adjusted definitions with the correct parameter shifts as in the Mathematica version\n",
    "    LegTref1_x = 3 * t\n",
    "    LegTref1_y = 3/32 * (4 + 5 * t * (sp.sqrt(1 - t) - sp.sqrt(1 + t)) - \n",
    "                         3 * t**3 * (sp.sqrt(1 - t) - sp.sqrt(1 + t)) + \n",
    "                         2 * t**2 * (-2 + sp.sqrt(1 - t) + sp.sqrt(1 + t))) * \\\n",
    "                (-4 + ((1 - (1 - t)**(sp.Rational(3, 2))) * (2 + 3 * t - t**3) + (2 - 3 * t + t**3) * \n",
    "                (-1 + (1 + t)**(sp.Rational(3, 2))))**2)\n",
    "    LegTref1_z = 1/16 * ((1 - (1 - t)**(sp.Rational(3, 2))) * (2 + 3 * t - t**3) + (2 - 3 * t + t**3) * \n",
    "                (-1 + (1 + t)**(sp.Rational(3, 2)))) * \\\n",
    "                (-12 + ((1 - (1 - t)**(sp.Rational(3, 2))) * (2 + 3 * t - t**3) + (2 - 3 * t + t**3) * \n",
    "                (-1 + (1 + t)**(sp.Rational(3, 2))))**2)\n",
    "\n",
    "    LegTref3_y = -(9/4) * t * sp.sqrt(1 - t**2)\n",
    "    LegTref3_z = 1 + 9/4 * (1 - t**2)**(sp.Rational(3, 2))\n",
    "\n",
    "    # Using updated expressions with parameter shifts\n",
    "    x = 3 * t\n",
    "    x = sp.Piecewise((LegTref1_x.subs(t, t - 1), t <= 2), \n",
    "                     (LegTref1_x.subs(t, 3 - t), (t > 2) & (t <= 4)), \n",
    "                     (LegTref1_x.subs(t, t - 5), (t > 4) & (t <= 6)), \n",
    "                     (LegTref1_x.subs(t, 7 - t), t > 6))\n",
    "    y = sp.Piecewise((LegTref1_y.subs(t, t - 1), t <= 2), \n",
    "                     (LegTref3_y.subs(t, 3 - t), (t > 2) & (t <= 4)), \n",
    "                     (-LegTref1_y.subs(t, t - 5), (t > 4) & (t <= 6)), \n",
    "                     (-LegTref3_y.subs(t, 7 - t), t > 6))\n",
    "    z = sp.Piecewise((LegTref1_z.subs(t, t - 1), t <= 2), \n",
    "                     (LegTref3_z.subs(t, 3 - t), (t > 2) & (t <= 4)), \n",
    "                     (-LegTref1_z.subs(t, t - 5), (t > 4) & (t <= 6)), \n",
    "                     (-LegTref3_z.subs(t, 7 - t), t > 6))\n",
    "\n",
    "    return x, y, z\n",
    "\n",
    "def LNGLegLHTrefoil(t):\n",
    "    LegLHtref1_x = t\n",
    "    LegLHtref1_y = 3/2 * (sp.sqrt(t) - 4 * (-1 + sp.sqrt(1 - t)) * t + (-4 + 11 * sp.sqrt(1 - t)) * t**2 - 7 * t**(sp.Rational(5, 2)) - 6 * sp.sqrt(1 - t) * t**3 + 6 * t**(sp.Rational(7, 2)))\n",
    "    LegLHtref1_z = (1 - (1 - t)**(sp.Rational(3, 2))) * (3 * t**2 - 2 * t**3) + t**(sp.Rational(3, 2)) * (1 - 3 * t**2 + 2 * t**3)\n",
    "\n",
    "    LegLHtref3_x = 2 - t\n",
    "    LegLHtref3_y = -1.125 + 8.25 * sp.sqrt(3 - t) + 2.25 * sp.sqrt(-1 + t) + (1.5 - 14.625 * sp.sqrt(3 - t) - 8.625 * sp.sqrt(-1 + t)) * t + (-0.375 + 7.5 * sp.sqrt(3 - t) + 6 * sp.sqrt(-1 + t)) * t**2 + (-1.125 * sp.sqrt(3 - t) - 1.125 * sp.sqrt(-1 + t)) * t**3\n",
    "    LegLHtref3_z = 1/4 * (-(0.5 + (3 - t)**(sp.Rational(3, 2))) * (-4 + t) * (-1 + t)**2 + (-3 + t)**2 * t * (1 - sp.sqrt(-1 + t) + sp.sqrt(-1 + t) * t))\n",
    "\n",
    "    LegLHtref5_x = -4 + t\n",
    "    LegLHtref5_y = 5.625 + 76.5 * sp.sqrt(5 - t) + 52.5 * sp.sqrt(-3 + t) + (-3 - 58.125 * sp.sqrt(5 - t) - 46.125 * sp.sqrt(-3 + t)) * t + (0.375 + 14.25 * sp.sqrt(5 - t) + 12.75 * sp.sqrt(-3 + t)) * t**2 + (-1.125 * sp.sqrt(5 - t) - 1.125 * sp.sqrt(-3 + t)) * t**3\n",
    "    LegLHtref5_z = 1/4 * ((5 - t)**(sp.Rational(3, 2)) * (-6 + t) * (-3 + t)**2 + (0.5 - (-3 + t)**(sp.Rational(3, 2))) * (-5 + t)**2 * (-2 + t))\n",
    "\n",
    "    LegLHtref6_x = 6 - t\n",
    "    LegLHtref6_y = 3/2 * (120 - 1045 * sp.sqrt(6 - t) + 924 * sp.sqrt(-5 + t) + (-44 + 564 * sp.sqrt(6 - t) - 520 * sp.sqrt(-5 + t)) * t + (4 - 101 * sp.sqrt(6 - t) + 97 * sp.sqrt(-5 + t)) * t**2 + 6 * (sp.sqrt(6 - t) - sp.sqrt(-5 + t)) * t**3)\n",
    "    LegLHtref6_z = -(1 - (6 - t)**(sp.Rational(3, 2))) * (-5 + t)**2 * (-13 + 2 * t) + (-6 + t)**2 * (-5 + t)**(sp.Rational(3, 2)) * (-9 + 2 * t)\n",
    "\n",
    "    LegLHtref8_x = -6 + t\n",
    "    LegLHtref8_y = 18 - 409.5 * sp.sqrt(8 - t) - 336 * sp.sqrt(-6 + t) + (-5.25 + 174 * sp.sqrt(8 - t) + 153 * sp.sqrt(-6 + t)) * t + (0.375 - 24.375 * sp.sqrt(8 - t) - 22.875 * sp.sqrt(-6 + t)) * t**2 + (1.125 * sp.sqrt(8 - t) + 1.125 * sp.sqrt(-6 + t)) * t**3\n",
    "    LegLHtref8_z = 1/4 * (-(0.5 + (8 - t)**(sp.Rational(3, 2))) * (-9 + t) * (-6 + t)**2 + (1 + (-6 + t)**(sp.Rational(3, 2))) * (-8 + t)**2 * (-5 + t))\n",
    "\n",
    "    LegLHtref10_x = 10 - t\n",
    "    LegLHtref10_y = -30 - 864 * sp.sqrt(10 - t) - 742.5 * sp.sqrt(-8 + t) + (6.75 + 285 * sp.sqrt(10 - t) + 258 * sp.sqrt(-8 + t)) * t + (-0.375 - 31.125 * sp.sqrt(10 - t) - 29.625 * sp.sqrt(-8 + t)) * t**2 + (1.125 * sp.sqrt(10 - t) + 1.125 * sp.sqrt(-8 + t)) * t**3\n",
    "    LegLHtref10_z = 1/4 * ((10 - t)**(sp.Rational(3, 2)) * (-11 + t) * (-8 + t)**2 + (0.5 - (-8 + t)**(sp.Rational(3, 2))) * (-10 + t)**2 * (-7 + t))\n",
    "\n",
    "    # Updated Piecewise function construction with all segments\n",
    "    x = sp.Piecewise((LegLHtref1_x, t <= 1), (LegLHtref3_x, t <= 3), (LegLHtref5_x, t <= 5), \n",
    "                     (LegLHtref6_x, t <= 6), (LegLHtref8_x, t <= 8), (LegLHtref10_x, True))\n",
    "    y = sp.Piecewise((LegLHtref1_y, t <= 1), (LegLHtref3_y, t <= 3), (LegLHtref5_y, t <= 5),\n",
    "                     (LegLHtref6_y, t <= 6), (LegLHtref8_y, t <= 8), (LegLHtref10_y, True))\n",
    "    z = sp.Piecewise((LegLHtref1_z, t <= 1), (LegLHtref3_z, t <= 3), (LegLHtref5_z, t <= 5),\n",
    "                     (LegLHtref6_z, t <= 6), (LegLHtref8_z, t <= 8), (LegLHtref10_z, True))\n",
    "\n",
    "    # Swap x and y in the return, as per instruction\n",
    "    return x, y, z\n"
   ]
  },
  {
   "cell_type": "code",
   "execution_count": 5,
   "metadata": {},
   "outputs": [
    {
     "name": "stderr",
     "output_type": "stream",
     "text": [
      "/Users/slaus/Library/Python/3.9/lib/python/site-packages/traittypes/traittypes.py:97: UserWarning: Given trait value dtype \"object\" does not match required type \"float32\". A coerced copy has been created.\n",
      "  warnings.warn(\n"
     ]
    },
    {
     "data": {
      "application/vnd.jupyter.widget-view+json": {
       "model_id": "6ab3315a1d344faf89363196584bab4c",
       "version_major": 2,
       "version_minor": 0
      },
      "text/plain": [
       "Output()"
      ]
     },
     "metadata": {},
     "output_type": "display_data"
    }
   ],
   "source": [
    "plot = k3d.plot()\n",
    "plot = knoty.plot_knot(plot, LNGLegTrefoil, domain=[0,8], resolution=500)\n",
    "plot = knoty.plot_planes_along_knot(plot, LNGLegTrefoil, domain=[0,8], n = 30, size=0.2, form=['y', 0, -1])\n",
    "\n",
    "plot.display()"
   ]
  },
  {
   "cell_type": "code",
   "execution_count": 6,
   "metadata": {},
   "outputs": [
    {
     "data": {
      "application/vnd.jupyter.widget-view+json": {
       "model_id": "a7d8c5e76da5451094fb6eb41730e4c8",
       "version_major": 2,
       "version_minor": 0
      },
      "text/plain": [
       "Output()"
      ]
     },
     "metadata": {},
     "output_type": "display_data"
    }
   ],
   "source": [
    "plot = k3d.plot()\n",
    "plot = knoty.plot_knot(plot, LNGLegLHTrefoil, domain=[0,10], resolution=500)\n",
    "plot = knoty.plot_planes_along_knot(plot, LNGLegLHTrefoil, domain=[0,10], n = 80, form=['y', 0, -1], size=0.1)\n",
    "\n",
    "plot.display()"
   ]
  },
  {
   "cell_type": "code",
   "execution_count": 7,
   "metadata": {},
   "outputs": [
    {
     "ename": "NameError",
     "evalue": "name 'np' is not defined",
     "output_type": "error",
     "traceback": [
      "\u001b[0;31m---------------------------------------------------------------------------\u001b[0m",
      "\u001b[0;31mTypeError\u001b[0m                                 Traceback (most recent call last)",
      "File \u001b[0;32m~/src/knots/knoty/basic_knot_functions.py:106\u001b[0m, in \u001b[0;36mplot_knot\u001b[0;34m(plot, knot, resolution, domain)\u001b[0m\n\u001b[1;32m    105\u001b[0m \u001b[38;5;28;01mtry\u001b[39;00m:\n\u001b[0;32m--> 106\u001b[0m     \u001b[38;5;28mlen\u001b[39m(\u001b[43mknot\u001b[49m\u001b[43m[\u001b[49m\u001b[38;5;241;43m0\u001b[39;49m\u001b[43m]\u001b[49m)\n\u001b[1;32m    107\u001b[0m \u001b[38;5;28;01mexcept\u001b[39;00m:\n",
      "\u001b[0;31mTypeError\u001b[0m: 'function' object is not subscriptable",
      "\nDuring handling of the above exception, another exception occurred:\n",
      "\u001b[0;31mNameError\u001b[0m                                 Traceback (most recent call last)",
      "Cell \u001b[0;32mIn[7], line 2\u001b[0m\n\u001b[1;32m      1\u001b[0m plot \u001b[38;5;241m=\u001b[39m k3d\u001b[38;5;241m.\u001b[39mplot()\n\u001b[0;32m----> 2\u001b[0m plot \u001b[38;5;241m=\u001b[39m \u001b[43mknoty\u001b[49m\u001b[38;5;241;43m.\u001b[39;49m\u001b[43mplot_knot\u001b[49m\u001b[43m(\u001b[49m\u001b[43mplot\u001b[49m\u001b[43m,\u001b[49m\u001b[43m \u001b[49m\u001b[43mknot2\u001b[49m\u001b[43m,\u001b[49m\u001b[43m \u001b[49m\u001b[43mdomain\u001b[49m\u001b[38;5;241;43m=\u001b[39;49m\u001b[43m[\u001b[49m\u001b[38;5;241;43m0\u001b[39;49m\u001b[43m,\u001b[49m\u001b[38;5;241;43m8\u001b[39;49m\u001b[43m]\u001b[49m\u001b[43m,\u001b[49m\u001b[43m \u001b[49m\u001b[43mresolution\u001b[49m\u001b[38;5;241;43m=\u001b[39;49m\u001b[38;5;241;43m500\u001b[39;49m\u001b[43m)\u001b[49m\n\u001b[1;32m      3\u001b[0m plot \u001b[38;5;241m=\u001b[39m knoty\u001b[38;5;241m.\u001b[39mplot_planes_along_knot(plot, knot2, n \u001b[38;5;241m=\u001b[39m \u001b[38;5;241m30\u001b[39m, size\u001b[38;5;241m=\u001b[39m\u001b[38;5;241m0.1\u001b[39m)\n\u001b[1;32m      4\u001b[0m plot \u001b[38;5;241m=\u001b[39m knoty\u001b[38;5;241m.\u001b[39mplot_contact_structure(plot, alpha \u001b[38;5;241m=\u001b[39m \u001b[38;5;241m0.1\u001b[39m)\n",
      "File \u001b[0;32m~/src/knots/knoty/basic_knot_functions.py:112\u001b[0m, in \u001b[0;36mplot_knot\u001b[0;34m(plot, knot, resolution, domain)\u001b[0m\n\u001b[1;32m    110\u001b[0m t \u001b[38;5;241m=\u001b[39m sp\u001b[38;5;241m.\u001b[39msymbols(\u001b[38;5;124m'\u001b[39m\u001b[38;5;124mt\u001b[39m\u001b[38;5;124m'\u001b[39m)  \u001b[38;5;66;03m# Define the symbolic variable\u001b[39;00m\n\u001b[1;32m    111\u001b[0m \u001b[38;5;28;01mfor\u001b[39;00m tval \u001b[38;5;129;01min\u001b[39;00m linspace:\n\u001b[0;32m--> 112\u001b[0m     x\u001b[38;5;241m.\u001b[39mappend(\u001b[43mknot\u001b[49m\u001b[43m(\u001b[49m\u001b[43mt\u001b[49m\u001b[43m)\u001b[49m[\u001b[38;5;241m0\u001b[39m]\u001b[38;5;241m.\u001b[39msubs(t, tval)\u001b[38;5;241m.\u001b[39mevalf())\n\u001b[1;32m    113\u001b[0m     y\u001b[38;5;241m.\u001b[39mappend(knot(t)[\u001b[38;5;241m1\u001b[39m]\u001b[38;5;241m.\u001b[39msubs(t, tval)\u001b[38;5;241m.\u001b[39mevalf())\n\u001b[1;32m    114\u001b[0m     z\u001b[38;5;241m.\u001b[39mappend(knot(t)[\u001b[38;5;241m2\u001b[39m]\u001b[38;5;241m.\u001b[39msubs(t, tval)\u001b[38;5;241m.\u001b[39mevalf())\n",
      "Cell \u001b[0;32mIn[3], line 6\u001b[0m, in \u001b[0;36mknot2\u001b[0;34m(t)\u001b[0m\n\u001b[1;32m      5\u001b[0m \u001b[38;5;28;01mdef\u001b[39;00m \u001b[38;5;21mknot2\u001b[39m(t):\n\u001b[0;32m----> 6\u001b[0m     \u001b[38;5;28;01mreturn\u001b[39;00m sp\u001b[38;5;241m.\u001b[39mcos(\u001b[38;5;241m2\u001b[39m \u001b[38;5;241m*\u001b[39m \u001b[43mnp\u001b[49m\u001b[38;5;241m.\u001b[39mpi \u001b[38;5;241m*\u001b[39mt), sp\u001b[38;5;241m.\u001b[39msin(\u001b[38;5;241m2\u001b[39m \u001b[38;5;241m*\u001b[39m np\u001b[38;5;241m.\u001b[39mpi \u001b[38;5;241m*\u001b[39m\u001b[38;5;241m2\u001b[39m\u001b[38;5;241m*\u001b[39mt), \u001b[38;5;241m2\u001b[39m\u001b[38;5;241m/\u001b[39m\u001b[38;5;241m3\u001b[39m \u001b[38;5;241m*\u001b[39m sp\u001b[38;5;241m.\u001b[39msin(\u001b[38;5;241m2\u001b[39m \u001b[38;5;241m*\u001b[39m np\u001b[38;5;241m.\u001b[39mpi \u001b[38;5;241m*\u001b[39mt)\u001b[38;5;241m*\u001b[39msp\u001b[38;5;241m.\u001b[39mcos(\u001b[38;5;241m2\u001b[39m \u001b[38;5;241m*\u001b[39m np\u001b[38;5;241m.\u001b[39mpi \u001b[38;5;241m*\u001b[39m\u001b[38;5;241m2\u001b[39m\u001b[38;5;241m*\u001b[39mt) \u001b[38;5;241m-\u001b[39m\u001b[38;5;241m4\u001b[39m\u001b[38;5;241m/\u001b[39m\u001b[38;5;241m3\u001b[39m \u001b[38;5;241m*\u001b[39m sp\u001b[38;5;241m.\u001b[39msin(\u001b[38;5;241m2\u001b[39m \u001b[38;5;241m*\u001b[39m np\u001b[38;5;241m.\u001b[39mpi \u001b[38;5;241m*\u001b[39m\u001b[38;5;241m2\u001b[39m\u001b[38;5;241m*\u001b[39mt)\u001b[38;5;241m*\u001b[39msp\u001b[38;5;241m.\u001b[39mcos(\u001b[38;5;241m2\u001b[39m \u001b[38;5;241m*\u001b[39m np\u001b[38;5;241m.\u001b[39mpi \u001b[38;5;241m*\u001b[39mt)\n",
      "\u001b[0;31mNameError\u001b[0m: name 'np' is not defined"
     ]
    }
   ],
   "source": [
    "\n",
    "plot = k3d.plot()\n",
    "plot = knoty.plot_knot(plot, knot2, domain=[0,8], resolution=500)\n",
    "plot = knoty.plot_planes_along_knot(plot, knot2, n = 30, size=0.1)\n",
    "plot = knoty.plot_contact_structure(plot, alpha = 0.1)\n",
    "\n",
    "plot.display()"
   ]
  },
  {
   "cell_type": "code",
   "execution_count": null,
   "metadata": {},
   "outputs": [
    {
     "name": "stderr",
     "output_type": "stream",
     "text": [
      "/Users/slaus/Library/Python/3.9/lib/python/site-packages/traittypes/traittypes.py:97: UserWarning: Given trait value dtype \"object\" does not match required type \"float32\". A coerced copy has been created.\n",
      "  warnings.warn(\n"
     ]
    },
    {
     "data": {
      "application/vnd.jupyter.widget-view+json": {
       "model_id": "ed437feec5984f40b226a86663419904",
       "version_major": 2,
       "version_minor": 0
      },
      "text/plain": [
       "Output()"
      ]
     },
     "metadata": {},
     "output_type": "display_data"
    }
   ],
   "source": [
    "import knoty\n",
    "import k3d\n",
    "import sympy as sp\n",
    "\n",
    "# Load and process the SVG file\n",
    "svg_file = './Examples/Blatt4A21.svg'  # Replace with your SVG file path\n",
    "\n",
    "fun = knoty.import_from_svg(svg_file, scaling=False, threshold=0)\n",
    "\n",
    "plot = k3d.plot()\n",
    "plot = knoty.plot_knot(plot, fun, resolution=100, domain=[0,1])\n",
    "# plot = knoty.plot_planes_along_knot(plot, fun, n = 5, size=0.2)\n",
    "\n",
    "plot.display()"
   ]
  },
  {
   "cell_type": "code",
   "execution_count": null,
   "metadata": {},
   "outputs": [],
   "source": []
  }
 ],
 "metadata": {
  "kernelspec": {
   "display_name": "ml",
   "language": "python",
   "name": "python3"
  },
  "language_info": {
   "codemirror_mode": {
    "name": "ipython",
    "version": 3
   },
   "file_extension": ".py",
   "mimetype": "text/x-python",
   "name": "python",
   "nbconvert_exporter": "python",
   "pygments_lexer": "ipython3",
   "version": "3.9.6"
  }
 },
 "nbformat": 4,
 "nbformat_minor": 2
}
