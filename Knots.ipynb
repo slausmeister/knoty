{
 "cells": [
  {
   "cell_type": "markdown",
   "metadata": {},
   "source": [
    "Loading modules"
   ]
  },
  {
   "cell_type": "code",
   "execution_count": 20,
   "metadata": {},
   "outputs": [],
   "source": [
    "import knoty\n",
    "import k3d\n",
    "import sympy as sp\n",
    "import numpy as np"
   ]
  },
  {
   "cell_type": "markdown",
   "metadata": {},
   "source": [
    "Defining contact structure"
   ]
  },
  {
   "cell_type": "code",
   "execution_count": 21,
   "metadata": {},
   "outputs": [],
   "source": [
    "form = [0, 'x', 1]"
   ]
  },
  {
   "cell_type": "markdown",
   "metadata": {},
   "source": [
    "Plotting contact structure"
   ]
  },
  {
   "cell_type": "code",
   "execution_count": 22,
   "metadata": {},
   "outputs": [
    {
     "data": {
      "application/vnd.jupyter.widget-view+json": {
       "model_id": "09ae3b3d62e643cb8f9fe7a18a47d184",
       "version_major": 2,
       "version_minor": 0
      },
      "text/plain": [
       "Output()"
      ]
     },
     "metadata": {},
     "output_type": "display_data"
    }
   ],
   "source": [
    "plot = k3d.plot()\n",
    "plot = knoty.plot_contact_structure(plot, form = form, alpha = 0.6)\n",
    "plot.display()"
   ]
  },
  {
   "cell_type": "markdown",
   "metadata": {},
   "source": [
    "Defining knot equations"
   ]
  },
  {
   "cell_type": "code",
   "execution_count": 23,
   "metadata": {},
   "outputs": [],
   "source": [
    "# Example usage with your basic_knot function\n",
    "def knot1(t):\n",
    "    return 3 * sp.sin(2 * np.pi *t) * sp.cos(2 * np.pi *t), sp.cos(2 * np.pi *t), sp.sin(2 * np.pi *t)**3\n",
    "\n",
    "def knot2(t):\n",
    "    return sp.cos(2 * np.pi *t), sp.sin(2 * np.pi *2*t), 2/3 * sp.sin(2 * np.pi *t)*sp.cos(2 * np.pi *2*t) -4/3 * sp.sin(2 * np.pi *2*t)*sp.cos(2 * np.pi *t)\n"
   ]
  },
  {
   "cell_type": "markdown",
   "metadata": {},
   "source": [
    "Plotting Knots"
   ]
  },
  {
   "cell_type": "code",
   "execution_count": 24,
   "metadata": {},
   "outputs": [
    {
     "data": {
      "application/vnd.jupyter.widget-view+json": {
       "model_id": "114457c1aeb04cae95fca49cee7ec859",
       "version_major": 2,
       "version_minor": 0
      },
      "text/plain": [
       "Output()"
      ]
     },
     "metadata": {},
     "output_type": "display_data"
    }
   ],
   "source": [
    "\n",
    "plot = k3d.plot()\n",
    "plot = knoty.plot_knot(plot, knot1, domain=[0,8], resolution=500)\n",
    "plot = knoty.plot_planes_along_knot(plot, knot1, n = 30, size=0.1)\n",
    "\n",
    "plot.display()"
   ]
  },
  {
   "cell_type": "code",
   "execution_count": 25,
   "metadata": {},
   "outputs": [
    {
     "data": {
      "application/vnd.jupyter.widget-view+json": {
       "model_id": "ce5dea4901c941779388f706c01c3a1e",
       "version_major": 2,
       "version_minor": 0
      },
      "text/plain": [
       "Output()"
      ]
     },
     "metadata": {},
     "output_type": "display_data"
    }
   ],
   "source": [
    "\n",
    "plot = k3d.plot()\n",
    "plot = knoty.plot_knot(plot, knot2, domain=[0,8], resolution=500)\n",
    "plot = knoty.plot_planes_along_knot(plot, knot2, n = 30, size=0.1)\n",
    "\n",
    "plot.display()"
   ]
  },
  {
   "cell_type": "markdown",
   "metadata": {},
   "source": [
    "The following knots come with the knoty package. The equations were kindly provided by Lenny Ng"
   ]
  },
  {
   "cell_type": "code",
   "execution_count": 26,
   "metadata": {},
   "outputs": [
    {
     "data": {
      "application/vnd.jupyter.widget-view+json": {
       "model_id": "04961f206cc847748844336d4d2d94c5",
       "version_major": 2,
       "version_minor": 0
      },
      "text/plain": [
       "Output()"
      ]
     },
     "metadata": {},
     "output_type": "display_data"
    }
   ],
   "source": [
    "plot = k3d.plot()\n",
    "plot = knoty.plot_knot(plot, knoty.LNLegTrefoil, domain=[0,8], resolution=500)\n",
    "plot = knoty.plot_planes_along_knot(plot, knoty.LNLegTrefoil, domain=[0,8], n = 30, size=0.2, form=['y', 0, -1])\n",
    "\n",
    "plot.display()"
   ]
  },
  {
   "cell_type": "code",
   "execution_count": 27,
   "metadata": {},
   "outputs": [
    {
     "data": {
      "application/vnd.jupyter.widget-view+json": {
       "model_id": "efd67e41aec64e099f05c5145e148df3",
       "version_major": 2,
       "version_minor": 0
      },
      "text/plain": [
       "Output()"
      ]
     },
     "metadata": {},
     "output_type": "display_data"
    }
   ],
   "source": [
    "plot = k3d.plot()\n",
    "plot = knoty.plot_knot(plot, knoty.LNLegLHTrefoil, domain=[0,10], resolution=500)\n",
    "plot = knoty.plot_planes_along_knot(plot, knoty.LNLegLHTrefoil, domain=[0,10], n = 80, form=['y', 0, -1], size=0.1)\n",
    "\n",
    "plot.display()"
   ]
  },
  {
   "cell_type": "code",
   "execution_count": 28,
   "metadata": {},
   "outputs": [
    {
     "data": {
      "application/vnd.jupyter.widget-view+json": {
       "model_id": "fd189d4ad5644f5c862dca72a80c6ee2",
       "version_major": 2,
       "version_minor": 0
      },
      "text/plain": [
       "Output()"
      ]
     },
     "metadata": {},
     "output_type": "display_data"
    }
   ],
   "source": [
    "plot = k3d.plot()\n",
    "plot = knoty.plot_knot(plot, knoty.LNChekanovA, domain=[0,18], resolution=500)\n",
    "plot = knoty.plot_planes_along_knot(plot, knoty.LNChekanovA, domain=[0,18], n = 80, form=['y', 0, -1], size=0.1)\n",
    "\n",
    "plot.display()"
   ]
  },
  {
   "cell_type": "code",
   "execution_count": 29,
   "metadata": {},
   "outputs": [
    {
     "data": {
      "application/vnd.jupyter.widget-view+json": {
       "model_id": "d6b083317cdd4fcdb8574973e9bee798",
       "version_major": 2,
       "version_minor": 0
      },
      "text/plain": [
       "Output()"
      ]
     },
     "metadata": {},
     "output_type": "display_data"
    }
   ],
   "source": [
    "plot = k3d.plot()\n",
    "plot = knoty.plot_knot(plot, knoty.LNChekanovB, domain=[0,18], resolution=500)\n",
    "plot = knoty.plot_planes_along_knot(plot, knoty.LNChekanovB, domain=[0,18], n = 80, form=['y', 0, -1], size=0.1)\n",
    "\n",
    "plot.display()"
   ]
  },
  {
   "cell_type": "markdown",
   "metadata": {},
   "source": [
    "We can also stack different visualizations ontop of each other"
   ]
  },
  {
   "cell_type": "code",
   "execution_count": 30,
   "metadata": {},
   "outputs": [
    {
     "data": {
      "application/vnd.jupyter.widget-view+json": {
       "model_id": "7808d0260dc7481ba9e308820825340b",
       "version_major": 2,
       "version_minor": 0
      },
      "text/plain": [
       "Output()"
      ]
     },
     "metadata": {},
     "output_type": "display_data"
    }
   ],
   "source": [
    "\n",
    "plot = k3d.plot()\n",
    "plot = knoty.plot_knot(plot, knot2, domain=[0,8], resolution=500)\n",
    "plot = knoty.plot_planes_along_knot(plot, knot2, n = 30, size=0.1)\n",
    "plot = knoty.plot_contact_structure(plot, alpha = 0.1)\n",
    "\n",
    "plot.display()"
   ]
  },
  {
   "cell_type": "markdown",
   "metadata": {},
   "source": [
    "Or get a quick intuition for the tb"
   ]
  },
  {
   "cell_type": "code",
   "execution_count": 31,
   "metadata": {},
   "outputs": [
    {
     "data": {
      "application/vnd.jupyter.widget-view+json": {
       "model_id": "0698de8871974a99be2b66b46cd2e98b",
       "version_major": 2,
       "version_minor": 0
      },
      "text/plain": [
       "Output()"
      ]
     },
     "metadata": {},
     "output_type": "display_data"
    }
   ],
   "source": [
    "def knot2tb(t):\n",
    "    return sp.cos(2 * np.pi *t), sp.sin(2 * np.pi *2*t), 2/3 * sp.sin(2 * np.pi *t)*sp.cos(2 * np.pi *2*t) -4/3 * sp.sin(2 * np.pi *2*t)*sp.cos(2 * np.pi *t) + 1\n",
    "\n",
    "\n",
    "\n",
    "plot = k3d.plot()\n",
    "plot = knoty.plot_knot(plot, knot2, domain=[0,8], resolution=500)\n",
    "plot = knoty.plot_knot(plot, knot2tb, domain=[0,8], resolution=500)\n",
    "\n",
    "plot.display()"
   ]
  },
  {
   "cell_type": "markdown",
   "metadata": {},
   "source": [
    "We can also load in a front projection specified by an SVG. The result will be a function for the knot that is compatible with all other functions provided by the package. The import does some automatic corrections to the knot to ensure continuity. See the documentation for more details."
   ]
  },
  {
   "cell_type": "code",
   "execution_count": 32,
   "metadata": {},
   "outputs": [
    {
     "name": "stdout",
     "output_type": "stream",
     "text": [
      "Correcting start point (0.15299824-7.6717687j)  and start point (0.17485513-7.6936256j)  to  (0.16392668500000002-7.68269715j)\n",
      "Correcting end point (6.600781-6.6663516000000005j)  and start point (6.5789241-6.6007809j)  to  (6.58985255-6.63356625j)\n",
      "Correcting start point (9.8977197-7.6826547j)  and end point (9.9011716-7.8029098999999995j)  to  (9.89944565-7.7427823j)\n",
      "Correcting end point (3.4499369-6.6772376j)  and start point (3.4763951-6.5886589j)  to  (3.463166-6.63294825j)\n",
      "Correcting end point (2.2294028-7.7154823j)  and start point (2.2512597-7.781053j)  to  (2.2403312499999997-7.74826765j)\n",
      "Correcting end point (7.8259164000000006-7.7033603j)  and end point (7.7591962-7.6717685j)  to  (7.7925563-7.687564399999999j)\n"
     ]
    }
   ],
   "source": [
    "# Load and process the SVG file\n",
    "svg_file = './Examples/Blatt4A21.svg'  # Replace with your SVG file path\n",
    "svg_knot = knoty.import_from_svg(svg_file, threshold=0.5)\n"
   ]
  },
  {
   "cell_type": "markdown",
   "metadata": {},
   "source": [
    "We can now plot the SVG knot"
   ]
  },
  {
   "cell_type": "code",
   "execution_count": 33,
   "metadata": {},
   "outputs": [
    {
     "data": {
      "application/vnd.jupyter.widget-view+json": {
       "model_id": "d4e30dc7b7e34cc6a0656085afc37c42",
       "version_major": 2,
       "version_minor": 0
      },
      "text/plain": [
       "Output()"
      ]
     },
     "metadata": {},
     "output_type": "display_data"
    }
   ],
   "source": [
    "\n",
    "plot = k3d.plot(grid_visible=True,menu_visibility=False, axes=['y', 'x', 'z'])\n",
    "plot = knoty.plot_knot(plot, svg_knot, resolution=100)\n",
    "plot = knoty.plot_planes_along_knot(plot, svg_knot, n = 8, size=0.1)\n",
    "\n",
    "plot.display()\n"
   ]
  }
 ],
 "metadata": {
  "kernelspec": {
   "display_name": "ml",
   "language": "python",
   "name": "python3"
  },
  "language_info": {
   "codemirror_mode": {
    "name": "ipython",
    "version": 3
   },
   "file_extension": ".py",
   "mimetype": "text/x-python",
   "name": "python",
   "nbconvert_exporter": "python",
   "pygments_lexer": "ipython3",
   "version": "3.12.3"
  }
 },
 "nbformat": 4,
 "nbformat_minor": 2
}
