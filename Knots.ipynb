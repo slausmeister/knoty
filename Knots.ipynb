{
 "cells": [
  {
   "cell_type": "markdown",
   "metadata": {},
   "source": [
    "Loading modules"
   ]
  },
  {
   "cell_type": "code",
   "execution_count": 1,
   "metadata": {},
   "outputs": [],
   "source": [
    "import knoty\n",
    "import k3d\n",
    "import sympy as sp\n",
    "import numpy as np"
   ]
  },
  {
   "cell_type": "markdown",
   "metadata": {},
   "source": [
    "Defining contact structure"
   ]
  },
  {
   "cell_type": "code",
   "execution_count": 2,
   "metadata": {},
   "outputs": [],
   "source": [
    "form = [0, 'x', 1]"
   ]
  },
  {
   "cell_type": "markdown",
   "metadata": {},
   "source": [
    "Plotting contact structure"
   ]
  },
  {
   "cell_type": "code",
   "execution_count": 3,
   "metadata": {},
   "outputs": [
    {
     "data": {
      "application/vnd.jupyter.widget-view+json": {
       "model_id": "6f72a8d79cc9490a9ad9fbff507e89f6",
       "version_major": 2,
       "version_minor": 0
      },
      "text/plain": [
       "Output()"
      ]
     },
     "metadata": {},
     "output_type": "display_data"
    }
   ],
   "source": [
    "plot = k3d.plot()\n",
    "plot = knoty.plot_contact_structure(plot, form = form, alpha = 0.6)\n",
    "plot.display()"
   ]
  },
  {
   "cell_type": "markdown",
   "metadata": {},
   "source": [
    "Defining knot equations"
   ]
  },
  {
   "cell_type": "code",
   "execution_count": 4,
   "metadata": {},
   "outputs": [],
   "source": [
    "# Example usage with your basic_knot function\n",
    "def knot1(t):\n",
    "    return 3 * sp.sin(2 * np.pi *t) * sp.cos(2 * np.pi *t), sp.cos(2 * np.pi *t), sp.sin(2 * np.pi *t)**3\n",
    "\n",
    "def knot2(t):\n",
    "    return sp.cos(2 * np.pi *t), sp.sin(2 * np.pi *2*t), 2/3 * sp.sin(2 * np.pi *t)*sp.cos(2 * np.pi *2*t) -4/3 * sp.sin(2 * np.pi *2*t)*sp.cos(2 * np.pi *t)\n"
   ]
  },
  {
   "cell_type": "markdown",
   "metadata": {},
   "source": [
    "The following knot equations were kindly provided by Lenny Ng"
   ]
  },
  {
   "cell_type": "code",
   "execution_count": 5,
   "metadata": {},
   "outputs": [],
   "source": [
    "\n",
    "def LNGLegTrefoil(t):\n",
    "    # Adjusted definitions with the correct parameter shifts as in the Mathematica version\n",
    "    LegTref1_x = 3 * t\n",
    "    LegTref1_y = 3/32 * (4 + 5 * t * (sp.sqrt(1 - t) - sp.sqrt(1 + t)) - \n",
    "                         3 * t**3 * (sp.sqrt(1 - t) - sp.sqrt(1 + t)) + \n",
    "                         2 * t**2 * (-2 + sp.sqrt(1 - t) + sp.sqrt(1 + t))) * \\\n",
    "                (-4 + ((1 - (1 - t)**(sp.Rational(3, 2))) * (2 + 3 * t - t**3) + (2 - 3 * t + t**3) * \n",
    "                (-1 + (1 + t)**(sp.Rational(3, 2))))**2)\n",
    "    LegTref1_z = 1/16 * ((1 - (1 - t)**(sp.Rational(3, 2))) * (2 + 3 * t - t**3) + (2 - 3 * t + t**3) * \n",
    "                (-1 + (1 + t)**(sp.Rational(3, 2)))) * \\\n",
    "                (-12 + ((1 - (1 - t)**(sp.Rational(3, 2))) * (2 + 3 * t - t**3) + (2 - 3 * t + t**3) * \n",
    "                (-1 + (1 + t)**(sp.Rational(3, 2))))**2)\n",
    "\n",
    "    LegTref3_y = -(9/4) * t * sp.sqrt(1 - t**2)\n",
    "    LegTref3_z = 1 + 9/4 * (1 - t**2)**(sp.Rational(3, 2))\n",
    "\n",
    "    # Using updated expressions with parameter shifts\n",
    "    x = 3 * t\n",
    "    x = sp.Piecewise((LegTref1_x.subs(t, t - 1), t <= 2), \n",
    "                     (LegTref1_x.subs(t, 3 - t), (t > 2) & (t <= 4)), \n",
    "                     (LegTref1_x.subs(t, t - 5), (t > 4) & (t <= 6)), \n",
    "                     (LegTref1_x.subs(t, 7 - t), t > 6))\n",
    "    y = sp.Piecewise((LegTref1_y.subs(t, t - 1), t <= 2), \n",
    "                     (LegTref3_y.subs(t, 3 - t), (t > 2) & (t <= 4)), \n",
    "                     (-LegTref1_y.subs(t, t - 5), (t > 4) & (t <= 6)), \n",
    "                     (-LegTref3_y.subs(t, 7 - t), t > 6))\n",
    "    z = sp.Piecewise((LegTref1_z.subs(t, t - 1), t <= 2), \n",
    "                     (LegTref3_z.subs(t, 3 - t), (t > 2) & (t <= 4)), \n",
    "                     (-LegTref1_z.subs(t, t - 5), (t > 4) & (t <= 6)), \n",
    "                     (-LegTref3_z.subs(t, 7 - t), t > 6))\n",
    "\n",
    "    return x, y, z\n",
    "\n",
    "def LNGLegLHTrefoil(t):\n",
    "    LegLHtref1_x = t\n",
    "    LegLHtref1_y = 3/2 * (sp.sqrt(t) - 4 * (-1 + sp.sqrt(1 - t)) * t + (-4 + 11 * sp.sqrt(1 - t)) * t**2 - 7 * t**(sp.Rational(5, 2)) - 6 * sp.sqrt(1 - t) * t**3 + 6 * t**(sp.Rational(7, 2)))\n",
    "    LegLHtref1_z = (1 - (1 - t)**(sp.Rational(3, 2))) * (3 * t**2 - 2 * t**3) + t**(sp.Rational(3, 2)) * (1 - 3 * t**2 + 2 * t**3)\n",
    "\n",
    "    LegLHtref3_x = 2 - t\n",
    "    LegLHtref3_y = -1.125 + 8.25 * sp.sqrt(3 - t) + 2.25 * sp.sqrt(-1 + t) + (1.5 - 14.625 * sp.sqrt(3 - t) - 8.625 * sp.sqrt(-1 + t)) * t + (-0.375 + 7.5 * sp.sqrt(3 - t) + 6 * sp.sqrt(-1 + t)) * t**2 + (-1.125 * sp.sqrt(3 - t) - 1.125 * sp.sqrt(-1 + t)) * t**3\n",
    "    LegLHtref3_z = 1/4 * (-(0.5 + (3 - t)**(sp.Rational(3, 2))) * (-4 + t) * (-1 + t)**2 + (-3 + t)**2 * t * (1 - sp.sqrt(-1 + t) + sp.sqrt(-1 + t) * t))\n",
    "\n",
    "    LegLHtref5_x = -4 + t\n",
    "    LegLHtref5_y = 5.625 + 76.5 * sp.sqrt(5 - t) + 52.5 * sp.sqrt(-3 + t) + (-3 - 58.125 * sp.sqrt(5 - t) - 46.125 * sp.sqrt(-3 + t)) * t + (0.375 + 14.25 * sp.sqrt(5 - t) + 12.75 * sp.sqrt(-3 + t)) * t**2 + (-1.125 * sp.sqrt(5 - t) - 1.125 * sp.sqrt(-3 + t)) * t**3\n",
    "    LegLHtref5_z = 1/4 * ((5 - t)**(sp.Rational(3, 2)) * (-6 + t) * (-3 + t)**2 + (0.5 - (-3 + t)**(sp.Rational(3, 2))) * (-5 + t)**2 * (-2 + t))\n",
    "\n",
    "    LegLHtref6_x = 6 - t\n",
    "    LegLHtref6_y = 3/2 * (120 - 1045 * sp.sqrt(6 - t) + 924 * sp.sqrt(-5 + t) + (-44 + 564 * sp.sqrt(6 - t) - 520 * sp.sqrt(-5 + t)) * t + (4 - 101 * sp.sqrt(6 - t) + 97 * sp.sqrt(-5 + t)) * t**2 + 6 * (sp.sqrt(6 - t) - sp.sqrt(-5 + t)) * t**3)\n",
    "    LegLHtref6_z = -(1 - (6 - t)**(sp.Rational(3, 2))) * (-5 + t)**2 * (-13 + 2 * t) + (-6 + t)**2 * (-5 + t)**(sp.Rational(3, 2)) * (-9 + 2 * t)\n",
    "\n",
    "    LegLHtref8_x = -6 + t\n",
    "    LegLHtref8_y = 18 - 409.5 * sp.sqrt(8 - t) - 336 * sp.sqrt(-6 + t) + (-5.25 + 174 * sp.sqrt(8 - t) + 153 * sp.sqrt(-6 + t)) * t + (0.375 - 24.375 * sp.sqrt(8 - t) - 22.875 * sp.sqrt(-6 + t)) * t**2 + (1.125 * sp.sqrt(8 - t) + 1.125 * sp.sqrt(-6 + t)) * t**3\n",
    "    LegLHtref8_z = 1/4 * (-(0.5 + (8 - t)**(sp.Rational(3, 2))) * (-9 + t) * (-6 + t)**2 + (1 + (-6 + t)**(sp.Rational(3, 2))) * (-8 + t)**2 * (-5 + t))\n",
    "\n",
    "    LegLHtref10_x = 10 - t\n",
    "    LegLHtref10_y = -30 - 864 * sp.sqrt(10 - t) - 742.5 * sp.sqrt(-8 + t) + (6.75 + 285 * sp.sqrt(10 - t) + 258 * sp.sqrt(-8 + t)) * t + (-0.375 - 31.125 * sp.sqrt(10 - t) - 29.625 * sp.sqrt(-8 + t)) * t**2 + (1.125 * sp.sqrt(10 - t) + 1.125 * sp.sqrt(-8 + t)) * t**3\n",
    "    LegLHtref10_z = 1/4 * ((10 - t)**(sp.Rational(3, 2)) * (-11 + t) * (-8 + t)**2 + (0.5 - (-8 + t)**(sp.Rational(3, 2))) * (-10 + t)**2 * (-7 + t))\n",
    "\n",
    "    # Updated Piecewise function construction with all segments\n",
    "    x = sp.Piecewise((LegLHtref1_x, t <= 1), (LegLHtref3_x, t <= 3), (LegLHtref5_x, t <= 5), \n",
    "                     (LegLHtref6_x, t <= 6), (LegLHtref8_x, t <= 8), (LegLHtref10_x, True))\n",
    "    y = sp.Piecewise((LegLHtref1_y, t <= 1), (LegLHtref3_y, t <= 3), (LegLHtref5_y, t <= 5),\n",
    "                     (LegLHtref6_y, t <= 6), (LegLHtref8_y, t <= 8), (LegLHtref10_y, True))\n",
    "    z = sp.Piecewise((LegLHtref1_z, t <= 1), (LegLHtref3_z, t <= 3), (LegLHtref5_z, t <= 5),\n",
    "                     (LegLHtref6_z, t <= 6), (LegLHtref8_z, t <= 8), (LegLHtref10_z, True))\n",
    "\n",
    "    # Swap x and y in the return, as per instruction\n",
    "    return x, y, z\n"
   ]
  },
  {
   "cell_type": "markdown",
   "metadata": {},
   "source": [
    "Plotting Knots"
   ]
  },
  {
   "cell_type": "code",
   "execution_count": 6,
   "metadata": {},
   "outputs": [
    {
     "name": "stderr",
     "output_type": "stream",
     "text": [
      "/Users/slaus/Library/Python/3.9/lib/python/site-packages/traittypes/traittypes.py:97: UserWarning: Given trait value dtype \"object\" does not match required type \"float32\". A coerced copy has been created.\n",
      "  warnings.warn(\n"
     ]
    },
    {
     "data": {
      "application/vnd.jupyter.widget-view+json": {
       "model_id": "17ced21ff021486f85ea78f6d0070274",
       "version_major": 2,
       "version_minor": 0
      },
      "text/plain": [
       "Output()"
      ]
     },
     "metadata": {},
     "output_type": "display_data"
    }
   ],
   "source": [
    "plot = k3d.plot()\n",
    "plot = knoty.plot_knot(plot, LNGLegTrefoil, domain=[0,8], resolution=500)\n",
    "plot = knoty.plot_planes_along_knot(plot, LNGLegTrefoil, domain=[0,8], n = 30, size=0.2, form=['y', 0, -1])\n",
    "\n",
    "plot.display()"
   ]
  },
  {
   "cell_type": "code",
   "execution_count": 7,
   "metadata": {},
   "outputs": [
    {
     "data": {
      "application/vnd.jupyter.widget-view+json": {
       "model_id": "c3e45e13426149638440e7ddc86de903",
       "version_major": 2,
       "version_minor": 0
      },
      "text/plain": [
       "Output()"
      ]
     },
     "metadata": {},
     "output_type": "display_data"
    }
   ],
   "source": [
    "plot = k3d.plot()\n",
    "plot = knoty.plot_knot(plot, LNGLegLHTrefoil, domain=[0,10], resolution=500)\n",
    "plot = knoty.plot_planes_along_knot(plot, LNGLegLHTrefoil, domain=[0,10], n = 80, form=['y', 0, -1], size=0.1)\n",
    "\n",
    "plot.display()"
   ]
  },
  {
   "cell_type": "code",
   "execution_count": 8,
   "metadata": {},
   "outputs": [
    {
     "data": {
      "application/vnd.jupyter.widget-view+json": {
       "model_id": "ac7429e8cb784de7b6739de51d247e32",
       "version_major": 2,
       "version_minor": 0
      },
      "text/plain": [
       "Output()"
      ]
     },
     "metadata": {},
     "output_type": "display_data"
    }
   ],
   "source": [
    "\n",
    "plot = k3d.plot()\n",
    "plot = knoty.plot_knot(plot, knot2, domain=[0,8], resolution=500)\n",
    "plot = knoty.plot_planes_along_knot(plot, knot2, n = 30, size=0.1)\n",
    "plot = knoty.plot_contact_structure(plot, alpha = 0.1)\n",
    "\n",
    "plot.display()"
   ]
  },
  {
   "cell_type": "markdown",
   "metadata": {},
   "source": [
    "Loading an SVG knot"
   ]
  },
  {
   "cell_type": "code",
   "execution_count": 10,
   "metadata": {},
   "outputs": [
    {
     "name": "stdout",
     "output_type": "stream",
     "text": [
      "Correcting start point (0.15299824-7.6717687j)  and start point (0.17485513-7.6936256j)  to  (0.16392668500000002-7.68269715j)\n",
      "Correcting end point (6.600781-6.6663516000000005j)  and start point (6.5789241-6.6007809j)  to  (6.58985255-6.63356625j)\n",
      "Correcting start point (9.8977197-7.6826547j)  and end point (9.9011716-7.8029098999999995j)  to  (9.89944565-7.7427823j)\n",
      "Correcting end point (3.4499369-6.6772376j)  and start point (3.4763951-6.5886589j)  to  (3.463166-6.63294825j)\n",
      "Correcting end point (2.2294028-7.7154823j)  and start point (2.2512597-7.781053j)  to  (2.2403312499999997-7.74826765j)\n",
      "Correcting end point (7.8259164000000006-7.7033603j)  and end point (7.7591962-7.6717685j)  to  (7.7925563-7.687564399999999j)\n"
     ]
    }
   ],
   "source": [
    "# Load and process the SVG file\n",
    "svg_file = './Examples/Blatt4A21.svg'  # Replace with your SVG file path\n",
    "svg_knot = knoty.import_from_svg(svg_file, threshold=0.5)\n"
   ]
  },
  {
   "cell_type": "markdown",
   "metadata": {},
   "source": [
    "Plotting SVG knot"
   ]
  },
  {
   "cell_type": "code",
   "execution_count": 11,
   "metadata": {},
   "outputs": [
    {
     "name": "stderr",
     "output_type": "stream",
     "text": [
      "/Users/slaus/Library/Python/3.9/lib/python/site-packages/traittypes/traittypes.py:97: UserWarning: Given trait value dtype \"object\" does not match required type \"float32\". A coerced copy has been created.\n",
      "  warnings.warn(\n"
     ]
    },
    {
     "data": {
      "application/vnd.jupyter.widget-view+json": {
       "model_id": "cbe42153466d4999a5beb2b4c12f93ff",
       "version_major": 2,
       "version_minor": 0
      },
      "text/plain": [
       "Output()"
      ]
     },
     "metadata": {},
     "output_type": "display_data"
    }
   ],
   "source": [
    "\n",
    "plot = k3d.plot(grid_visible=True,menu_visibility=False, axes=['y', 'x', 'z'])\n",
    "plot = knoty.plot_knot(plot, svg_knot, resolution=100)\n",
    "plot = knoty.plot_planes_along_knot(plot, svg_knot, n = 8, size=0.1)\n",
    "\n",
    "plot.display()\n"
   ]
  }
 ],
 "metadata": {
  "kernelspec": {
   "display_name": "ml",
   "language": "python",
   "name": "python3"
  },
  "language_info": {
   "codemirror_mode": {
    "name": "ipython",
    "version": 3
   },
   "file_extension": ".py",
   "mimetype": "text/x-python",
   "name": "python",
   "nbconvert_exporter": "python",
   "pygments_lexer": "ipython3",
   "version": "3.9.6"
  }
 },
 "nbformat": 4,
 "nbformat_minor": 2
}
